{
 "cells": [
  {
   "cell_type": "markdown",
   "id": "53e974e2-a7f6-4dca-9614-71b1c860cfca",
   "metadata": {},
   "source": [
    "<font size=\"6\"> **Data Cleaning** </font>"
   ]
  },
  {
   "cell_type": "markdown",
   "id": "a86da49d-1301-4a7a-bdb8-6bb815f26365",
   "metadata": {},
   "source": [
    "<font size=\"4\"> Importing essential Libraries </font>"
   ]
  },
  {
   "cell_type": "code",
   "execution_count": 1,
   "id": "8cde942b-eac8-4019-8127-a613b4edcb46",
   "metadata": {},
   "outputs": [],
   "source": [
    "import pandas as pd\n",
    "import numpy as np\n",
    "import matplotlib.pyplot as plt"
   ]
  },
  {
   "cell_type": "code",
   "execution_count": 2,
   "id": "cb3aecfe-40a4-4ef7-8b1d-86078c05ef46",
   "metadata": {},
   "outputs": [],
   "source": [
    "from mpl_toolkits import mplot3d"
   ]
  },
  {
   "cell_type": "markdown",
   "id": "894061ea-beeb-4e86-b99a-eea8d9e618e5",
   "metadata": {},
   "source": [
    "<font size=\"4\"> Creating a Dataframe using Pandas to read the raw data file. </font>"
   ]
  },
  {
   "cell_type": "code",
   "execution_count": 3,
   "id": "6b40643e-f621-4623-bcd7-66ae21c17789",
   "metadata": {},
   "outputs": [],
   "source": [
    "df = pd.read_csv(\"crop_production.csv\")"
   ]
  },
  {
   "cell_type": "markdown",
   "id": "4cd3199f-284d-44f8-a2f0-134bd0801c4f",
   "metadata": {},
   "source": [
    "<font size=\"4\">Names of all columns in the Dataframe</font>"
   ]
  },
  {
   "cell_type": "code",
   "execution_count": 4,
   "id": "2dad4715-8081-4825-ad41-1f3c16a3ffc1",
   "metadata": {
    "tags": []
   },
   "outputs": [
    {
     "data": {
      "text/plain": [
       "Index(['State_Name', 'District_Name', 'Crop_Year', 'Season', 'Crop', 'Area',\n",
       "       'Production'],\n",
       "      dtype='object')"
      ]
     },
     "execution_count": 4,
     "metadata": {},
     "output_type": "execute_result"
    }
   ],
   "source": [
    "df.columns"
   ]
  },
  {
   "cell_type": "code",
   "execution_count": 5,
   "id": "bf01bb27-5a7f-4d0e-b954-ef1ef31a39a6",
   "metadata": {
    "tags": []
   },
   "outputs": [
    {
     "data": {
      "text/html": [
       "<div>\n",
       "<style scoped>\n",
       "    .dataframe tbody tr th:only-of-type {\n",
       "        vertical-align: middle;\n",
       "    }\n",
       "\n",
       "    .dataframe tbody tr th {\n",
       "        vertical-align: top;\n",
       "    }\n",
       "\n",
       "    .dataframe thead th {\n",
       "        text-align: right;\n",
       "    }\n",
       "</style>\n",
       "<table border=\"1\" class=\"dataframe\">\n",
       "  <thead>\n",
       "    <tr style=\"text-align: right;\">\n",
       "      <th></th>\n",
       "      <th>State_Name</th>\n",
       "      <th>District_Name</th>\n",
       "      <th>Crop_Year</th>\n",
       "      <th>Season</th>\n",
       "      <th>Crop</th>\n",
       "      <th>Area</th>\n",
       "      <th>Production</th>\n",
       "    </tr>\n",
       "  </thead>\n",
       "  <tbody>\n",
       "    <tr>\n",
       "      <th>0</th>\n",
       "      <td>Andaman and Nicobar Islands</td>\n",
       "      <td>NICOBARS</td>\n",
       "      <td>2000</td>\n",
       "      <td>Kharif</td>\n",
       "      <td>Arecanut</td>\n",
       "      <td>1254.0</td>\n",
       "      <td>2000.0</td>\n",
       "    </tr>\n",
       "    <tr>\n",
       "      <th>1</th>\n",
       "      <td>Andaman and Nicobar Islands</td>\n",
       "      <td>NICOBARS</td>\n",
       "      <td>2000</td>\n",
       "      <td>Kharif</td>\n",
       "      <td>Other Kharif pulses</td>\n",
       "      <td>2.0</td>\n",
       "      <td>1.0</td>\n",
       "    </tr>\n",
       "    <tr>\n",
       "      <th>2</th>\n",
       "      <td>Andaman and Nicobar Islands</td>\n",
       "      <td>NICOBARS</td>\n",
       "      <td>2000</td>\n",
       "      <td>Kharif</td>\n",
       "      <td>Rice</td>\n",
       "      <td>102.0</td>\n",
       "      <td>321.0</td>\n",
       "    </tr>\n",
       "    <tr>\n",
       "      <th>3</th>\n",
       "      <td>Andaman and Nicobar Islands</td>\n",
       "      <td>NICOBARS</td>\n",
       "      <td>2000</td>\n",
       "      <td>Whole Year</td>\n",
       "      <td>Banana</td>\n",
       "      <td>176.0</td>\n",
       "      <td>641.0</td>\n",
       "    </tr>\n",
       "    <tr>\n",
       "      <th>4</th>\n",
       "      <td>Andaman and Nicobar Islands</td>\n",
       "      <td>NICOBARS</td>\n",
       "      <td>2000</td>\n",
       "      <td>Whole Year</td>\n",
       "      <td>Cashewnut</td>\n",
       "      <td>720.0</td>\n",
       "      <td>165.0</td>\n",
       "    </tr>\n",
       "  </tbody>\n",
       "</table>\n",
       "</div>"
      ],
      "text/plain": [
       "                    State_Name District_Name  Crop_Year       Season  \\\n",
       "0  Andaman and Nicobar Islands      NICOBARS       2000  Kharif        \n",
       "1  Andaman and Nicobar Islands      NICOBARS       2000  Kharif        \n",
       "2  Andaman and Nicobar Islands      NICOBARS       2000  Kharif        \n",
       "3  Andaman and Nicobar Islands      NICOBARS       2000  Whole Year    \n",
       "4  Andaman and Nicobar Islands      NICOBARS       2000  Whole Year    \n",
       "\n",
       "                  Crop    Area  Production  \n",
       "0             Arecanut  1254.0      2000.0  \n",
       "1  Other Kharif pulses     2.0         1.0  \n",
       "2                 Rice   102.0       321.0  \n",
       "3               Banana   176.0       641.0  \n",
       "4            Cashewnut   720.0       165.0  "
      ]
     },
     "execution_count": 5,
     "metadata": {},
     "output_type": "execute_result"
    }
   ],
   "source": [
    "df.head()"
   ]
  },
  {
   "cell_type": "markdown",
   "id": "238fdcd1-a6aa-44a3-8939-be1ab9b8c617",
   "metadata": {},
   "source": [
    "<font size=\"4\">Checking the datatypes of all the columns in the dataframe</font>"
   ]
  },
  {
   "cell_type": "code",
   "execution_count": 6,
   "id": "ed20c2f5-caf8-4679-949d-32a282fc9a30",
   "metadata": {
    "tags": []
   },
   "outputs": [
    {
     "name": "stdout",
     "output_type": "stream",
     "text": [
      "<class 'pandas.core.frame.DataFrame'>\n",
      "RangeIndex: 246091 entries, 0 to 246090\n",
      "Data columns (total 7 columns):\n",
      " #   Column         Non-Null Count   Dtype  \n",
      "---  ------         --------------   -----  \n",
      " 0   State_Name     246091 non-null  object \n",
      " 1   District_Name  246091 non-null  object \n",
      " 2   Crop_Year      246091 non-null  int64  \n",
      " 3   Season         246091 non-null  object \n",
      " 4   Crop           246091 non-null  object \n",
      " 5   Area           246091 non-null  float64\n",
      " 6   Production     242361 non-null  float64\n",
      "dtypes: float64(2), int64(1), object(4)\n",
      "memory usage: 13.1+ MB\n"
     ]
    }
   ],
   "source": [
    "df.info()"
   ]
  },
  {
   "cell_type": "markdown",
   "id": "7d0508c5-2710-42ca-828f-5cce39c92550",
   "metadata": {},
   "source": [
    "<font size=\"4\"> Creating a new column named \"Date\" having the datatype of date </font>"
   ]
  },
  {
   "cell_type": "code",
   "execution_count": 7,
   "id": "e3e38cfa-0e66-4ccf-aa04-e03a865acfd7",
   "metadata": {},
   "outputs": [],
   "source": [
    "df[\"Date\"] = pd.to_datetime(df[\"Crop_Year\"], format='%Y')"
   ]
  },
  {
   "cell_type": "code",
   "execution_count": 8,
   "id": "eda463d4-41ad-4186-88cf-b8b73fcee2e6",
   "metadata": {
    "tags": []
   },
   "outputs": [
    {
     "data": {
      "text/html": [
       "<div>\n",
       "<style scoped>\n",
       "    .dataframe tbody tr th:only-of-type {\n",
       "        vertical-align: middle;\n",
       "    }\n",
       "\n",
       "    .dataframe tbody tr th {\n",
       "        vertical-align: top;\n",
       "    }\n",
       "\n",
       "    .dataframe thead th {\n",
       "        text-align: right;\n",
       "    }\n",
       "</style>\n",
       "<table border=\"1\" class=\"dataframe\">\n",
       "  <thead>\n",
       "    <tr style=\"text-align: right;\">\n",
       "      <th></th>\n",
       "      <th>State_Name</th>\n",
       "      <th>District_Name</th>\n",
       "      <th>Crop_Year</th>\n",
       "      <th>Season</th>\n",
       "      <th>Crop</th>\n",
       "      <th>Area</th>\n",
       "      <th>Production</th>\n",
       "      <th>Date</th>\n",
       "    </tr>\n",
       "  </thead>\n",
       "  <tbody>\n",
       "    <tr>\n",
       "      <th>0</th>\n",
       "      <td>Andaman and Nicobar Islands</td>\n",
       "      <td>NICOBARS</td>\n",
       "      <td>2000</td>\n",
       "      <td>Kharif</td>\n",
       "      <td>Arecanut</td>\n",
       "      <td>1254.0</td>\n",
       "      <td>2000.0</td>\n",
       "      <td>2000-01-01</td>\n",
       "    </tr>\n",
       "    <tr>\n",
       "      <th>1</th>\n",
       "      <td>Andaman and Nicobar Islands</td>\n",
       "      <td>NICOBARS</td>\n",
       "      <td>2000</td>\n",
       "      <td>Kharif</td>\n",
       "      <td>Other Kharif pulses</td>\n",
       "      <td>2.0</td>\n",
       "      <td>1.0</td>\n",
       "      <td>2000-01-01</td>\n",
       "    </tr>\n",
       "    <tr>\n",
       "      <th>2</th>\n",
       "      <td>Andaman and Nicobar Islands</td>\n",
       "      <td>NICOBARS</td>\n",
       "      <td>2000</td>\n",
       "      <td>Kharif</td>\n",
       "      <td>Rice</td>\n",
       "      <td>102.0</td>\n",
       "      <td>321.0</td>\n",
       "      <td>2000-01-01</td>\n",
       "    </tr>\n",
       "    <tr>\n",
       "      <th>3</th>\n",
       "      <td>Andaman and Nicobar Islands</td>\n",
       "      <td>NICOBARS</td>\n",
       "      <td>2000</td>\n",
       "      <td>Whole Year</td>\n",
       "      <td>Banana</td>\n",
       "      <td>176.0</td>\n",
       "      <td>641.0</td>\n",
       "      <td>2000-01-01</td>\n",
       "    </tr>\n",
       "    <tr>\n",
       "      <th>4</th>\n",
       "      <td>Andaman and Nicobar Islands</td>\n",
       "      <td>NICOBARS</td>\n",
       "      <td>2000</td>\n",
       "      <td>Whole Year</td>\n",
       "      <td>Cashewnut</td>\n",
       "      <td>720.0</td>\n",
       "      <td>165.0</td>\n",
       "      <td>2000-01-01</td>\n",
       "    </tr>\n",
       "  </tbody>\n",
       "</table>\n",
       "</div>"
      ],
      "text/plain": [
       "                    State_Name District_Name  Crop_Year       Season  \\\n",
       "0  Andaman and Nicobar Islands      NICOBARS       2000  Kharif        \n",
       "1  Andaman and Nicobar Islands      NICOBARS       2000  Kharif        \n",
       "2  Andaman and Nicobar Islands      NICOBARS       2000  Kharif        \n",
       "3  Andaman and Nicobar Islands      NICOBARS       2000  Whole Year    \n",
       "4  Andaman and Nicobar Islands      NICOBARS       2000  Whole Year    \n",
       "\n",
       "                  Crop    Area  Production       Date  \n",
       "0             Arecanut  1254.0      2000.0 2000-01-01  \n",
       "1  Other Kharif pulses     2.0         1.0 2000-01-01  \n",
       "2                 Rice   102.0       321.0 2000-01-01  \n",
       "3               Banana   176.0       641.0 2000-01-01  \n",
       "4            Cashewnut   720.0       165.0 2000-01-01  "
      ]
     },
     "execution_count": 8,
     "metadata": {},
     "output_type": "execute_result"
    }
   ],
   "source": [
    "df.head()"
   ]
  },
  {
   "cell_type": "markdown",
   "id": "a5f028e0-57e1-4c4b-aab9-7e95182735fd",
   "metadata": {},
   "source": [
    "<font size=\"4\">All unique state names</font>"
   ]
  },
  {
   "cell_type": "code",
   "execution_count": 9,
   "id": "165969c5-3e4b-4f5f-bf00-cf4e69600353",
   "metadata": {
    "tags": []
   },
   "outputs": [
    {
     "name": "stdout",
     "output_type": "stream",
     "text": [
      "['Andaman and Nicobar Islands' 'Andhra Pradesh' 'Arunachal Pradesh'\n",
      " 'Assam' 'Bihar' 'Chandigarh' 'Chhattisgarh' 'Dadra and Nagar Haveli'\n",
      " 'Goa' 'Gujarat' 'Haryana' 'Himachal Pradesh' 'Jammu and Kashmir '\n",
      " 'Jharkhand' 'Karnataka' 'Kerala' 'Madhya Pradesh' 'Maharashtra' 'Manipur'\n",
      " 'Meghalaya' 'Mizoram' 'Nagaland' 'Odisha' 'Puducherry' 'Punjab'\n",
      " 'Rajasthan' 'Sikkim' 'Tamil Nadu' 'Telangana ' 'Tripura' 'Uttar Pradesh'\n",
      " 'Uttarakhand' 'West Bengal']\n"
     ]
    }
   ],
   "source": [
    "Unique_State_Name = df[\"State_Name\"].unique()\n",
    "print(Unique_State_Name)"
   ]
  },
  {
   "cell_type": "code",
   "execution_count": 10,
   "id": "68026173-0c55-4d73-a27a-426a9cfd5e41",
   "metadata": {
    "tags": []
   },
   "outputs": [
    {
     "name": "stdout",
     "output_type": "stream",
     "text": [
      "['2000-01-01T00:00:00.000000000' '2001-01-01T00:00:00.000000000'\n",
      " '2002-01-01T00:00:00.000000000' '2003-01-01T00:00:00.000000000'\n",
      " '2004-01-01T00:00:00.000000000' '2005-01-01T00:00:00.000000000'\n",
      " '2006-01-01T00:00:00.000000000' '2010-01-01T00:00:00.000000000'\n",
      " '1997-01-01T00:00:00.000000000' '1998-01-01T00:00:00.000000000'\n",
      " '1999-01-01T00:00:00.000000000' '2007-01-01T00:00:00.000000000'\n",
      " '2008-01-01T00:00:00.000000000' '2009-01-01T00:00:00.000000000'\n",
      " '2011-01-01T00:00:00.000000000' '2012-01-01T00:00:00.000000000'\n",
      " '2013-01-01T00:00:00.000000000' '2014-01-01T00:00:00.000000000'\n",
      " '2015-01-01T00:00:00.000000000']\n"
     ]
    }
   ],
   "source": [
    "Unique_Date = df[\"Date\"].unique()\n",
    "print(Unique_Date)"
   ]
  },
  {
   "cell_type": "code",
   "execution_count": 11,
   "id": "1be5d968-79ee-4150-a7f8-2d424816216d",
   "metadata": {
    "tags": []
   },
   "outputs": [
    {
     "name": "stdout",
     "output_type": "stream",
     "text": [
      "['Kharif' 'Whole Year' 'Autumn' 'Rabi' 'Summer' 'Winter']\n"
     ]
    }
   ],
   "source": [
    "df[\"Season\"] = df[\"Season\"].str.strip()\n",
    "Unique_Season = df[\"Season\"].unique()\n",
    "print(Unique_Season)"
   ]
  },
  {
   "cell_type": "markdown",
   "id": "7f27bb11-3c96-47fa-a25f-28486281e04d",
   "metadata": {},
   "source": [
    "<font size=\"4\">Categorizing the 6 seasons into 4 major Indian cropping seasons</font>"
   ]
  },
  {
   "cell_type": "code",
   "execution_count": 12,
   "id": "63ab6a4d-df6d-4d5a-a91e-5db369aa4527",
   "metadata": {
    "tags": []
   },
   "outputs": [
    {
     "name": "stdout",
     "output_type": "stream",
     "text": [
      "['Kharif' 'Whole Year' 'Rabi' 'Zaid']\n"
     ]
    }
   ],
   "source": [
    "df[\"Season\"] = df[\"Season\"].apply( lambda x : \"Rabi\" if x == \"Winter\" else  x )\n",
    "df[\"Season\"] = df[\"Season\"].apply( lambda x : \"Rabi\" if x == \"Autumn\" else  x )\n",
    "df[\"Season\"] = df[\"Season\"].apply( lambda x : \"Zaid\" if x == \"Summer\" else  x )\n",
    "print(df[\"Season\"].unique())"
   ]
  },
  {
   "cell_type": "markdown",
   "id": "3cdbcd79-2bc4-4891-ab9f-0c806c75ba86",
   "metadata": {},
   "source": [
    "<font size=\"4\">All unique crop names</font>"
   ]
  },
  {
   "cell_type": "code",
   "execution_count": 13,
   "id": "db459477-d7ef-4aec-929e-67411e5372e3",
   "metadata": {
    "tags": []
   },
   "outputs": [
    {
     "name": "stdout",
     "output_type": "stream",
     "text": [
      "['Arecanut' 'Other Kharif pulses' 'Rice' 'Banana' 'Cashewnut' 'Coconut'\n",
      " 'Dry ginger' 'Sugarcane' 'Sweet potato' 'Tapioca' 'Black pepper'\n",
      " 'Dry chillies' 'other oilseeds' 'Turmeric' 'Maize' 'Moong(Green Gram)'\n",
      " 'Urad' 'Arhar/Tur' 'Groundnut' 'Sunflower' 'Bajra' 'Castor seed'\n",
      " 'Cotton(lint)' 'Horse-gram' 'Jowar' 'Korra' 'Ragi' 'Tobacco' 'Gram'\n",
      " 'Wheat' 'Masoor' 'Sesamum' 'Linseed' 'Safflower' 'Onion'\n",
      " 'other misc. pulses' 'Samai' 'Small millets' 'Coriander' 'Potato'\n",
      " 'Other  Rabi pulses' 'Soyabean' 'Beans & Mutter(Vegetable)' 'Bhindi'\n",
      " 'Brinjal' 'Citrus Fruit' 'Cucumber' 'Grapes' 'Mango' 'Orange'\n",
      " 'other fibres' 'Other Fresh Fruits' 'Other Vegetables' 'Papaya'\n",
      " 'Pome Fruit' 'Tomato' 'Rapeseed &Mustard' 'Mesta' 'Cowpea(Lobia)' 'Lemon'\n",
      " 'Pome Granet' 'Sapota' 'Cabbage' 'Peas  (vegetable)' 'Niger seed'\n",
      " 'Bottle Gourd' 'Sannhamp' 'Varagu' 'Garlic' 'Ginger' 'Oilseeds total'\n",
      " 'Pulses total' 'Jute' 'Peas & beans (Pulses)' 'Blackgram' 'Paddy'\n",
      " 'Pineapple' 'Barley' 'Khesari' 'Guar seed' 'Moth'\n",
      " 'Other Cereals & Millets' 'Cond-spcs other' 'Turnip' 'Carrot' 'Redish'\n",
      " 'Arcanut (Processed)' 'Atcanut (Raw)' 'Cashewnut Processed'\n",
      " 'Cashewnut Raw' 'Cardamom' 'Rubber' 'Bitter Gourd' 'Drum Stick'\n",
      " 'Jack Fruit' 'Snak Guard' 'Pump Kin' 'Tea' 'Coffee' 'Cauliflower'\n",
      " 'Other Citrus Fruit' 'Water Melon' 'Total foodgrain' 'Kapas' 'Colocosia'\n",
      " 'Lentil' 'Bean' 'Jobster' 'Perilla' 'Rajmash Kholar' 'Ricebean (nagadal)'\n",
      " 'Ash Gourd' 'Beet Root' 'Lab-Lab' 'Ribed Guard' 'Yam' 'Apple' 'Peach'\n",
      " 'Pear' 'Plums' 'Litchi' 'Ber' 'Other Dry Fruit' 'Jute & mesta']\n"
     ]
    }
   ],
   "source": [
    "df[\"Crop\"] = df[\"Crop\"].str.strip()\n",
    "Unique_Crop = df[\"Crop\"].unique()\n",
    "print(Unique_Crop)"
   ]
  },
  {
   "cell_type": "markdown",
   "id": "0b74a6dc-14c7-4612-8ee3-b82cc5ff3f3d",
   "metadata": {},
   "source": [
    "<font size=\"4\">Since many of the crop names were repeated,duplicated, or having wrong spelling.\n",
    "Combining all the duplicated or duplicated into one crop and correcting the spelling of all the incorrect ones.</font>"
   ]
  },
  {
   "cell_type": "code",
   "execution_count": 14,
   "id": "e104891a-0e2a-462f-bc18-0d860740cc88",
   "metadata": {
    "tags": []
   },
   "outputs": [
    {
     "name": "stdout",
     "output_type": "stream",
     "text": [
      "['Arecanut' 'Other Kharif pulses' 'Paddy' 'Banana' 'Cashewnut' 'Coconut'\n",
      " 'Dry ginger' 'Sugarcane' 'Sweet potato' 'Tapioca' 'Black pepper'\n",
      " 'Dry chillies' 'other oilseeds' 'Turmeric' 'Maize' 'Moong(Green Gram)'\n",
      " 'Blackgram' 'Arhar/Tur' 'Groundnut' 'Sunflower' 'Bajra' 'Castor seed'\n",
      " 'Cotton(lint)' 'Horse-gram' 'Jowar' 'Korra' 'Ragi' 'Tobacco' 'Gram'\n",
      " 'Wheat' 'Lentil' 'Seasum' 'Linseed' 'Safflower' 'Onion'\n",
      " 'other misc. pulses' 'Samai' 'Small millets' 'Coriander' 'Potato'\n",
      " 'Other  Rabi pulses' 'Soybean' 'Beans & Mutter(Vegetable)' 'Bhindi'\n",
      " 'Brinjal' 'Citrus Fruit' 'Cucumber' 'Grapes' 'Mango' 'Orange'\n",
      " 'other fibres' 'Other Fresh Fruits' 'Other Vegetables' 'Papaya'\n",
      " 'Pome Fruit' 'Tomato' 'Rapeseed &Mustard' 'Jute & mesta' 'Cowpea(Lobia)'\n",
      " 'Lemon' 'Pomegranate' 'Sapota' 'Cabbage' 'Peas  (vegetable)' 'Niger seed'\n",
      " 'Bottle Gourd' 'Sunhemp' 'Varagu' 'Garlic' 'Ginger' 'Oilseeds total'\n",
      " 'Pulses total' 'Peas & beans (Pulses)' 'Pineapple' 'Barley' 'Khesari'\n",
      " 'Guar seed' 'Moth' 'Other Cereals & Millets' 'Cond-spcs other' 'Turnip'\n",
      " 'Carrot' 'Raddish' 'Arcanut (Processed)' 'Atcanut (Raw)'\n",
      " 'Cashewnut Processed' 'Cashewnut Raw' 'Cardamom' 'Rubber' 'Bitter Gourd'\n",
      " 'Drum Stick' 'Jack Fruit' 'Snake Gourd' 'Pumpkin' 'Tea' 'Coffee'\n",
      " 'Cauliflower' 'Other Citrus Fruit' 'Water Melon' 'Total foodgrain'\n",
      " 'Colocosia' 'Bean' 'Jobster' 'Perilla' 'Rajmash Kholar'\n",
      " 'Ricebean (nagadal)' 'Ash Gourd' 'Beet Root' 'Lab-Lab' 'Ribed Guard'\n",
      " 'Yam' 'Apple' 'Peach' 'Pear' 'Plums' 'Litchi' 'Ber' 'Other Dry Fruit']\n"
     ]
    }
   ],
   "source": [
    "df[\"Crop\"] = df[\"Crop\"].apply( lambda x : \"Seasum\" if x == \"Sesamum\" else  x )\n",
    "df[\"Crop\"] = df[\"Crop\"].apply( lambda x : \"Pomegranate\" if x == \"Pome Granet\" else  x )\n",
    "df[\"Crop\"] = df[\"Crop\"].apply( lambda x : \"Sunhemp\" if x == \"Sannhamp\" else  x )\n",
    "df[\"Crop\"] = df[\"Crop\"].apply( lambda x : \"Raddish\" if x == \"Redish\" else  x )\n",
    "df[\"Crop\"] = df[\"Crop\"].apply( lambda x : \"Soybean\" if x == \"Soyabean\" else  x )\n",
    "df[\"Crop\"] = df[\"Crop\"].apply( lambda x : \"Snake Gourd\" if x == \"Snak Guard\" else  x )\n",
    "df[\"Crop\"] = df[\"Crop\"].apply( lambda x : \"Pumpkin\" if x == \"Pump Kin\" else  x )\n",
    "df[\"Crop\"] = df[\"Crop\"].apply( lambda x : \"Paddy\" if x == \"Rice\" else  x )\n",
    "df[\"Crop\"] = df[\"Crop\"].apply( lambda x : \"Blackgram\" if x == \"Urad\" else  x )\n",
    "df[\"Crop\"] = df[\"Crop\"].apply( lambda x : \"Lentil\" if x == \"Masoor\" else  x )\n",
    "df[\"Crop\"] = df[\"Crop\"].apply( lambda x : \"Jute & mesta\" if x == \"Jute\" else  x )\n",
    "df[\"Crop\"] = df[\"Crop\"].apply( lambda x : \"Jute & mesta\" if x == \"Mesta\" else  x )\n",
    "df[\"Crop\"] = df[\"Crop\"].apply( lambda x : \"Cotton(lint)\" if x == \"Kapas\" else  x )\n",
    "\n",
    "Unique_Crop = df[\"Crop\"].unique()\n",
    "print(Unique_Crop)"
   ]
  },
  {
   "cell_type": "markdown",
   "id": "b962e50b-464f-41b4-baa8-b78f5736f758",
   "metadata": {},
   "source": [
    "<font size=\"4\">India has a huge variety of crops grown.\n",
    "It would be easier to analyze if all the crops are further categorized into crop categories.</font>"
   ]
  },
  {
   "cell_type": "code",
   "execution_count": 15,
   "id": "67cb547a-2fd5-4c01-910b-fd82f29ae449",
   "metadata": {
    "tags": []
   },
   "outputs": [
    {
     "name": "stdout",
     "output_type": "stream",
     "text": [
      "['Condiment' 'Pulses' 'Cereal' 'Fruit' 'Dryfruit' 'Plantation' 'Vegetable'\n",
      " 'Oilseed']\n"
     ]
    }
   ],
   "source": [
    "def category_name(name):\n",
    "    Cereals = ['Wheat','Maize','Bajra','Paddy', 'Jowar', 'Korra','Ragi','Small millets','Samai', 'Varagu','Barley','Khesari','Other Cereals & Millets','Total foodgrain','Jobster']\n",
    "    Pulses = ['Pulses total','Other  Rabi pulses','Other Kharif pulses','Moong(Green Gram)','Blackgram','Lentil','Arhar/Tur','Horse-gram','Gram','other misc. pulses','Other rabi pulses','Other fibres','Cowpea(Lobia)','Peas & beans (Pulses)','Moth','Bean','Rajmash Kholar','Ricebean (nagadal)']\n",
    "    Vegetables = ['Beans & Mutter(Vegetable)','Lemon','Sweet potato','Tapioca','Onion','Potato','Bhindi','Brinjal','Cucumber','Other Vegetables','Tomato','Cabbage','Peas  (vegetable)','Bottle Gourd','Turnip','Carrot','Raddish','Bitter Gourd','Drum Stick','Jack Fruit','Snake Gourd','Pumpkin','Cauliflower','Colocosia','Ash Gourd','Beet Root','Lab-Lab','Ribed Guard','Yam','Perilla']\n",
    "    Fruits = ['Sapota','Banana','Citrus Fruit','Grapes','Mango','Orange','Other Fresh Fruits','Papaya','Pome Fruit','Pomegranate','Pineapple','Other Citrus Fruit','Water Melon','Apple','Peach','Pear','Plums','Litchi','Ber']\n",
    "    Oilseeds = ['other oilseeds','Groundnut','Sunflower','Castor seed','Safflower','Linseed','Seasum','Rapeseed &Mustard','Niger seed','Oilseeds total','Sunhemp','Soybean']\n",
    "    Condiments = ['Dry ginger','Black pepper','Dry chillies','Turmeric','Coriander','Garlic','Ginger','Cond-spcs other','Cardamom','Arcanut (Processed)','Atcanut (Raw)','Arecanut']\n",
    "    Dryfruits = ['Cashewnut','Cashewnut Processed','Cashewnut Raw','Other Dry Fruit']\n",
    "    Plantation = ['Coconut','Sugarcane','Cotton(lint)','Tobacco','Jute & mesta','Guar seed','Rubber','Tea','Coffee','other fibres']\n",
    "    if name in Cereals:\n",
    "        return 'Cereal'\n",
    "    elif name in Pulses:\n",
    "        return 'Pulses'\n",
    "    elif name in Vegetables:\n",
    "        return 'Vegetable'\n",
    "    elif name in Fruits:\n",
    "        return 'Fruit'\n",
    "    elif name in Oilseeds:\n",
    "        return 'Oilseed'\n",
    "    elif name in Condiments:\n",
    "        return 'Condiment'\n",
    "    elif name in Dryfruits:\n",
    "        return 'Dryfruit'\n",
    "    elif name in Plantation:\n",
    "        return 'Plantation'\n",
    "    else:\n",
    "        return 'None'\n",
    "    \n",
    "df[\"Category\"] = df[\"Crop\"].apply(category_name)\n",
    "print(df[\"Category\"].unique())"
   ]
  },
  {
   "cell_type": "markdown",
   "id": "696947b9-d40f-4be8-b16b-93ade249fd49",
   "metadata": {},
   "source": [
    "<font size=\"4\">Categorizing all the indian states into their respected regions.</font>"
   ]
  },
  {
   "cell_type": "code",
   "execution_count": 16,
   "id": "9ba850fc-7106-49e1-bf6f-2318d9826ff6",
   "metadata": {},
   "outputs": [
    {
     "name": "stdout",
     "output_type": "stream",
     "text": [
      "['South India' 'East India' 'North India' 'West India']\n"
     ]
    }
   ],
   "source": [
    "def category(name):\n",
    "    east_india = ['West Bengal', 'Tripura', 'Arunachal Pradesh', 'Assam', 'Manipur', 'Meghalaya', 'Mizoram', 'Nagaland', 'Sikkim','Odisha']\n",
    "    west_india = ['Maharashtra', 'Gujarat', 'Dadra and Nagar Haveli', 'Goa', 'Rajasthan']\n",
    "    north_india = ['Bihar', 'Chandigarh', 'Chhattisgarh', 'Haryana', 'Himachal Pradesh', 'Jammu and Kashmir ', 'Jharkhand', 'Madhya Pradesh', 'Punjab', 'Uttar Pradesh', 'Uttarakhand']\n",
    "    south_india = ['Tamil Nadu', 'Telangana ', 'Andaman and Nicobar Islands', 'Andhra Pradesh', 'Karnataka', 'Kerala', 'Puducherry']\n",
    "    \n",
    "    if name in east_india:\n",
    "        return 'East India'\n",
    "    elif name in west_india:\n",
    "        return 'West India'\n",
    "    elif name in north_india:\n",
    "        return 'North India'\n",
    "    elif name in south_india:\n",
    "        return 'South India'\n",
    "    else:\n",
    "        return 'None'\n",
    "    \n",
    "df[\"Region\"] = df[\"State_Name\"].apply(category)\n",
    "print(df[\"Region\"].unique())"
   ]
  },
  {
   "cell_type": "code",
   "execution_count": 17,
   "id": "7a315ad3-fcc9-47c0-874c-c35a6f79587e",
   "metadata": {
    "tags": []
   },
   "outputs": [
    {
     "data": {
      "text/plain": [
       "array([], dtype=object)"
      ]
     },
     "execution_count": 17,
     "metadata": {},
     "output_type": "execute_result"
    }
   ],
   "source": [
    "ny_df = df.loc[df['Region'] == 'None']\n",
    "ny_df[\"State_Name\"].unique()"
   ]
  },
  {
   "cell_type": "code",
   "execution_count": 18,
   "id": "bf7cba3e-8e19-4ca3-a399-53a21ae6c391",
   "metadata": {},
   "outputs": [],
   "source": [
    "df.columns = ['State_Name', 'District_Name', 'Crop_Year', 'Season', 'Crop', 'Area(hectare)',\n",
    "       'Production(tonnes)', 'Date', 'Category', 'Region']"
   ]
  },
  {
   "cell_type": "code",
   "execution_count": 19,
   "id": "d23c2cb9-da30-4c50-af96-3ed1eead752b",
   "metadata": {
    "tags": []
   },
   "outputs": [
    {
     "data": {
      "text/plain": [
       "Index(['State_Name', 'District_Name', 'Crop_Year', 'Season', 'Crop',\n",
       "       'Area(hectare)', 'Production(tonnes)', 'Date', 'Category', 'Region'],\n",
       "      dtype='object')"
      ]
     },
     "execution_count": 19,
     "metadata": {},
     "output_type": "execute_result"
    }
   ],
   "source": [
    "df.columns"
   ]
  },
  {
   "cell_type": "markdown",
   "id": "78e1b61b-d610-4a99-8bce-09328b7ca166",
   "metadata": {},
   "source": [
    "<font size=\"4\">Creating a new column named \"roductivity\" and \"Total Production\"</font>"
   ]
  },
  {
   "cell_type": "code",
   "execution_count": 20,
   "id": "411585cc-3d14-4308-a5cf-0ebe30ff6edd",
   "metadata": {},
   "outputs": [],
   "source": [
    "df[\"Productivity\"] = df[\"Production(tonnes)\"] / df[\"Area(hectare)\"]\n",
    "df[\"Total Production\"] = df[\"Production(tonnes)\"] * df[\"Area(hectare)\"]"
   ]
  },
  {
   "cell_type": "code",
   "execution_count": 21,
   "id": "c789142a-312d-41a1-9fa3-e544b8ab67a8",
   "metadata": {
    "tags": []
   },
   "outputs": [
    {
     "data": {
      "text/plain": [
       "Index(['State_Name', 'District_Name', 'Crop_Year', 'Season', 'Crop',\n",
       "       'Area(hectare)', 'Production(tonnes)', 'Date', 'Category', 'Region',\n",
       "       'Productivity', 'Total Production'],\n",
       "      dtype='object')"
      ]
     },
     "execution_count": 21,
     "metadata": {},
     "output_type": "execute_result"
    }
   ],
   "source": [
    "df.columns"
   ]
  },
  {
   "cell_type": "code",
   "execution_count": 22,
   "id": "7654dab8-3afa-4455-808f-9e1350b2dba6",
   "metadata": {
    "tags": []
   },
   "outputs": [
    {
     "data": {
      "text/html": [
       "<div>\n",
       "<style scoped>\n",
       "    .dataframe tbody tr th:only-of-type {\n",
       "        vertical-align: middle;\n",
       "    }\n",
       "\n",
       "    .dataframe tbody tr th {\n",
       "        vertical-align: top;\n",
       "    }\n",
       "\n",
       "    .dataframe thead th {\n",
       "        text-align: right;\n",
       "    }\n",
       "</style>\n",
       "<table border=\"1\" class=\"dataframe\">\n",
       "  <thead>\n",
       "    <tr style=\"text-align: right;\">\n",
       "      <th></th>\n",
       "      <th>State_Name</th>\n",
       "      <th>District_Name</th>\n",
       "      <th>Crop_Year</th>\n",
       "      <th>Season</th>\n",
       "      <th>Crop</th>\n",
       "      <th>Area(hectare)</th>\n",
       "      <th>Production(tonnes)</th>\n",
       "      <th>Date</th>\n",
       "      <th>Category</th>\n",
       "      <th>Region</th>\n",
       "      <th>Productivity</th>\n",
       "      <th>Total Production</th>\n",
       "    </tr>\n",
       "  </thead>\n",
       "  <tbody>\n",
       "    <tr>\n",
       "      <th>0</th>\n",
       "      <td>Andaman and Nicobar Islands</td>\n",
       "      <td>NICOBARS</td>\n",
       "      <td>2000</td>\n",
       "      <td>Kharif</td>\n",
       "      <td>Arecanut</td>\n",
       "      <td>1254.0</td>\n",
       "      <td>2000.0</td>\n",
       "      <td>2000-01-01</td>\n",
       "      <td>Condiment</td>\n",
       "      <td>South India</td>\n",
       "      <td>1.594896</td>\n",
       "      <td>2508000.0</td>\n",
       "    </tr>\n",
       "    <tr>\n",
       "      <th>1</th>\n",
       "      <td>Andaman and Nicobar Islands</td>\n",
       "      <td>NICOBARS</td>\n",
       "      <td>2000</td>\n",
       "      <td>Kharif</td>\n",
       "      <td>Other Kharif pulses</td>\n",
       "      <td>2.0</td>\n",
       "      <td>1.0</td>\n",
       "      <td>2000-01-01</td>\n",
       "      <td>Pulses</td>\n",
       "      <td>South India</td>\n",
       "      <td>0.500000</td>\n",
       "      <td>2.0</td>\n",
       "    </tr>\n",
       "    <tr>\n",
       "      <th>2</th>\n",
       "      <td>Andaman and Nicobar Islands</td>\n",
       "      <td>NICOBARS</td>\n",
       "      <td>2000</td>\n",
       "      <td>Kharif</td>\n",
       "      <td>Paddy</td>\n",
       "      <td>102.0</td>\n",
       "      <td>321.0</td>\n",
       "      <td>2000-01-01</td>\n",
       "      <td>Cereal</td>\n",
       "      <td>South India</td>\n",
       "      <td>3.147059</td>\n",
       "      <td>32742.0</td>\n",
       "    </tr>\n",
       "    <tr>\n",
       "      <th>3</th>\n",
       "      <td>Andaman and Nicobar Islands</td>\n",
       "      <td>NICOBARS</td>\n",
       "      <td>2000</td>\n",
       "      <td>Whole Year</td>\n",
       "      <td>Banana</td>\n",
       "      <td>176.0</td>\n",
       "      <td>641.0</td>\n",
       "      <td>2000-01-01</td>\n",
       "      <td>Fruit</td>\n",
       "      <td>South India</td>\n",
       "      <td>3.642045</td>\n",
       "      <td>112816.0</td>\n",
       "    </tr>\n",
       "    <tr>\n",
       "      <th>4</th>\n",
       "      <td>Andaman and Nicobar Islands</td>\n",
       "      <td>NICOBARS</td>\n",
       "      <td>2000</td>\n",
       "      <td>Whole Year</td>\n",
       "      <td>Cashewnut</td>\n",
       "      <td>720.0</td>\n",
       "      <td>165.0</td>\n",
       "      <td>2000-01-01</td>\n",
       "      <td>Dryfruit</td>\n",
       "      <td>South India</td>\n",
       "      <td>0.229167</td>\n",
       "      <td>118800.0</td>\n",
       "    </tr>\n",
       "  </tbody>\n",
       "</table>\n",
       "</div>"
      ],
      "text/plain": [
       "                    State_Name District_Name  Crop_Year      Season  \\\n",
       "0  Andaman and Nicobar Islands      NICOBARS       2000      Kharif   \n",
       "1  Andaman and Nicobar Islands      NICOBARS       2000      Kharif   \n",
       "2  Andaman and Nicobar Islands      NICOBARS       2000      Kharif   \n",
       "3  Andaman and Nicobar Islands      NICOBARS       2000  Whole Year   \n",
       "4  Andaman and Nicobar Islands      NICOBARS       2000  Whole Year   \n",
       "\n",
       "                  Crop  Area(hectare)  Production(tonnes)       Date  \\\n",
       "0             Arecanut         1254.0              2000.0 2000-01-01   \n",
       "1  Other Kharif pulses            2.0                 1.0 2000-01-01   \n",
       "2                Paddy          102.0               321.0 2000-01-01   \n",
       "3               Banana          176.0               641.0 2000-01-01   \n",
       "4            Cashewnut          720.0               165.0 2000-01-01   \n",
       "\n",
       "    Category       Region  Productivity  Total Production  \n",
       "0  Condiment  South India      1.594896         2508000.0  \n",
       "1     Pulses  South India      0.500000               2.0  \n",
       "2     Cereal  South India      3.147059           32742.0  \n",
       "3      Fruit  South India      3.642045          112816.0  \n",
       "4   Dryfruit  South India      0.229167          118800.0  "
      ]
     },
     "execution_count": 22,
     "metadata": {},
     "output_type": "execute_result"
    }
   ],
   "source": [
    "df.head()"
   ]
  },
  {
   "cell_type": "markdown",
   "id": "14c29f41-1429-41c0-b166-cc7234b92c3b",
   "metadata": {},
   "source": [
    "<font size=\"4\">Dropping all the null values</font>"
   ]
  },
  {
   "cell_type": "code",
   "execution_count": 23,
   "id": "b26d87af-7eaa-4139-a5ef-09b955c306f5",
   "metadata": {
    "tags": []
   },
   "outputs": [],
   "source": [
    "df = df.dropna(axis=0)"
   ]
  },
  {
   "cell_type": "markdown",
   "id": "c5431704-7911-491a-807f-fa92d1439bb6",
   "metadata": {},
   "source": [
    "<font size=\"4\">Dropping all the rows in which Area is 1,2,3,4,5,6,7 and 10</font>"
   ]
  },
  {
   "cell_type": "code",
   "execution_count": 24,
   "id": "cbb19fbc-5699-43d7-a634-b7bafee017ae",
   "metadata": {},
   "outputs": [],
   "source": [
    "df = df.drop(df[df['Area(hectare)'] == 1].index)\n",
    "df = df.drop(df[df['Area(hectare)'] == 2].index)\n",
    "df = df.drop(df[df['Area(hectare)'] == 3].index)\n",
    "df = df.drop(df[df['Area(hectare)'] == 4].index)\n",
    "df = df.drop(df[df['Area(hectare)'] == 5].index)\n",
    "df = df.drop(df[df['Area(hectare)'] == 6].index)\n",
    "df = df.drop(df[df['Area(hectare)'] == 7].index)\n",
    "df = df.drop(df[df['Area(hectare)'] == 10].index)"
   ]
  },
  {
   "cell_type": "markdown",
   "id": "d0308c11-a9a7-4108-889d-af16b288154e",
   "metadata": {},
   "source": [
    "<font size=\"4\">Dropping all the rows in which Production is 0,1,2,3,4,5,6 and 10</font>"
   ]
  },
  {
   "cell_type": "code",
   "execution_count": 25,
   "id": "99b600f6-0ffd-4ba7-9906-ea56acec70f7",
   "metadata": {},
   "outputs": [],
   "source": [
    "df = df.drop(df[df['Production(tonnes)'] == 1].index)\n",
    "df = df.drop(df[df['Production(tonnes)'] == 0].index)\n",
    "df = df.drop(df[df['Production(tonnes)'] == 2].index)\n",
    "df = df.drop(df[df['Production(tonnes)'] == 3].index)\n",
    "df = df.drop(df[df['Production(tonnes)'] == 4].index)\n",
    "df = df.drop(df[df['Production(tonnes)'] == 5].index)\n",
    "df = df.drop(df[df['Production(tonnes)'] == 6].index)\n",
    "df = df.drop(df[df['Production(tonnes)'] == 10].index)"
   ]
  },
  {
   "cell_type": "code",
   "execution_count": 26,
   "id": "58341b31-faae-4731-9183-2b7a5f801055",
   "metadata": {},
   "outputs": [],
   "source": [
    "df.to_csv(\"Cleaned.csv\", index = False)"
   ]
  },
  {
   "cell_type": "code",
   "execution_count": 27,
   "id": "f545add7-2b3e-4a9b-ac9e-c77e5fba2790",
   "metadata": {},
   "outputs": [
    {
     "data": {
      "text/plain": [
       "Index(['State_Name', 'District_Name', 'Crop_Year', 'Season', 'Crop',\n",
       "       'Area(hectare)', 'Production(tonnes)', 'Date', 'Category', 'Region',\n",
       "       'Productivity', 'Total Production'],\n",
       "      dtype='object')"
      ]
     },
     "execution_count": 27,
     "metadata": {},
     "output_type": "execute_result"
    }
   ],
   "source": [
    "df.columns"
   ]
  },
  {
   "cell_type": "markdown",
   "id": "dfc53d93-dbd3-4df7-a6c2-bdce441fd754",
   "metadata": {},
   "source": [
    "<font size=\"4\">Removing the outliers</font>"
   ]
  },
  {
   "cell_type": "code",
   "execution_count": 28,
   "id": "8d12e98e-a301-4e7c-a8f7-13e7bbf2330e",
   "metadata": {},
   "outputs": [],
   "source": [
    "Q1 = df[\"Total Production\"].quantile(0.40)\n",
    "Q3 = df[\"Total Production\"].quantile(0.60)\n",
    "IQR = Q3 - Q1\n",
    "\n",
    "df = df[(df[\"Total Production\"] >= Q1 - 1.5*IQR) & (df[\"Total Production\"] <= Q3 + 1.5*IQR)]"
   ]
  },
  {
   "cell_type": "code",
   "execution_count": 29,
   "id": "fd21a0b4-654e-4c6d-9019-2f660ffba1a4",
   "metadata": {},
   "outputs": [],
   "source": [
    "Q1 = df[\"Productivity\"].quantile(0.40)\n",
    "Q3 = df[\"Productivity\"].quantile(0.60)\n",
    "IQR = Q3 - Q1\n",
    "\n",
    "df = df[(df[\"Productivity\"] >= Q1 - 1.5*IQR) & (df[\"Productivity\"] <= Q3 + 1.5*IQR)]"
   ]
  },
  {
   "cell_type": "code",
   "execution_count": 30,
   "id": "9a6f81a7-2d73-482f-92e6-b618114d340a",
   "metadata": {},
   "outputs": [
    {
     "data": {
      "text/plain": [
       "(array([76741.,  7248.,  3958.,  2710.,  2058.,  1754.,  1335.,  1186.,\n",
       "         1125.,   919.]),\n",
       " array([8.00000000e-03, 1.00686001e+06, 2.01372001e+06, 3.02058001e+06,\n",
       "        4.02744000e+06, 5.03430000e+06, 6.04116000e+06, 7.04802000e+06,\n",
       "        8.05488000e+06, 9.06174000e+06, 1.00686000e+07]),\n",
       " <BarContainer object of 10 artists>)"
      ]
     },
     "execution_count": 30,
     "metadata": {},
     "output_type": "execute_result"
    },
    {
     "data": {
      "image/png": "[encoded data removed]",
      "text/plain": [
       "<Figure size 432x288 with 1 Axes>"
      ]
     },
     "metadata": {
      "needs_background": "light"
     },
     "output_type": "display_data"
    }
   ],
   "source": [
    "plt.hist(df[\"Total Production\"])"
   ]
  },
  {
   "cell_type": "code",
   "execution_count": 31,
   "id": "5b4aa0de-638b-4960-a896-8d7a0cbe64ec",
   "metadata": {},
   "outputs": [
    {
     "data": {
      "text/plain": [
       "(array([11984., 15434., 16307., 13256., 12632., 11263.,  6145.,  4620.,\n",
       "         4457.,  2936.]),\n",
       " array([0.13772455, 0.29021349, 0.44270244, 0.59519138, 0.74768032,\n",
       "        0.90016927, 1.05265821, 1.20514715, 1.3576361 , 1.51012504,\n",
       "        1.66261398]),\n",
       " <BarContainer object of 10 artists>)"
      ]
     },
     "execution_count": 31,
     "metadata": {},
     "output_type": "execute_result"
    },
    {
     "data": {
      "image/png": "[encoded data removed]",
      "text/plain": [
       "<Figure size 432x288 with 1 Axes>"
      ]
     },
     "metadata": {
      "needs_background": "light"
     },
     "output_type": "display_data"
    }
   ],
   "source": [
    "plt.hist(df[\"Productivity\"])"
   ]
  },
  {
   "cell_type": "code",
   "execution_count": 32,
   "id": "8590a07b-cbd4-4423-ae9f-7b11a3a902e0",
   "metadata": {},
   "outputs": [],
   "source": [
    "df.to_csv(\"CleanedIQR.csv\", index = False)"
   ]
  },
  {
   "cell_type": "code",
   "execution_count": 33,
   "id": "7cd83ba2-546d-4cae-80ae-0b8827d493fe",
   "metadata": {},
   "outputs": [],
   "source": [
    "Q1 = df[\"Area(hectare)\"].quantile(0.40)\n",
    "Q3 = df[\"Area(hectare)\"].quantile(0.60)\n",
    "IQR = Q3 - Q1\n",
    "\n",
    "df = df[(df[\"Area(hectare)\"] >= Q1 - 1.5*IQR) & (df[\"Area(hectare)\"] <= Q3 + 1.5*IQR)]"
   ]
  },
  {
   "cell_type": "code",
   "execution_count": 34,
   "id": "d076543c-15dd-44d0-a570-755a6641465b",
   "metadata": {},
   "outputs": [
    {
     "data": {
      "text/plain": [
       "(array([27911., 12570.,  8176.,  5733.,  4528.,  3889.,  3174.,  3209.,\n",
       "         2795.,  2301.]),\n",
       " array([1.00000e-01, 1.12790e+02, 2.25480e+02, 3.38170e+02, 4.50860e+02,\n",
       "        5.63550e+02, 6.76240e+02, 7.88930e+02, 9.01620e+02, 1.01431e+03,\n",
       "        1.12700e+03]),\n",
       " <BarContainer object of 10 artists>)"
      ]
     },
     "execution_count": 34,
     "metadata": {},
     "output_type": "execute_result"
    },
    {
     "data": {
      "image/png": "[encoded data removed]",
      "text/plain": [
       "<Figure size 432x288 with 1 Axes>"
      ]
     },
     "metadata": {
      "needs_background": "light"
     },
     "output_type": "display_data"
    }
   ],
   "source": [
    "plt.hist(df[\"Area(hectare)\"])"
   ]
  },
  {
   "cell_type": "code",
   "execution_count": 35,
   "id": "fdd7e1f7-aa61-4a3a-a824-041953050793",
   "metadata": {},
   "outputs": [],
   "source": [
    "df.to_csv(\"CleanedIQR.csv\", index = False)"
   ]
  }
 ],
 "metadata": {
  "kernelspec": {
   "display_name": "Python 3 (ipykernel)",
   "language": "python",
   "name": "python3"
  },
  "language_info": {
   "codemirror_mode": {
    "name": "ipython",
    "version": 3
   },
   "file_extension": ".py",
   "mimetype": "text/x-python",
   "name": "python",
   "nbconvert_exporter": "python",
   "pygments_lexer": "ipython3",
   "version": "3.9.7"
  }
 },
 "nbformat": 4,
 "nbformat_minor": 5
}
