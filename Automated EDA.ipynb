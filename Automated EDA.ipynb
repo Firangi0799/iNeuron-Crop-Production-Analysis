{
 "cells": [
  {
   "cell_type": "markdown",
   "id": "e6d0d867-53c0-4856-b79b-10b5aff6cfb4",
   "metadata": {},
   "source": [
    "<font size=\"6\">**Automted EDA to just get the overview of the things going on here**</font>"
   ]
  },
  {
   "cell_type": "code",
   "execution_count": 1,
   "id": "2f24658f-cfa5-488d-9aa7-86ec14f34a53",
   "metadata": {},
   "outputs": [],
   "source": [
    "import ydata_profiling as pp\n",
    "import pandas as pd"
   ]
  },
  {
   "cell_type": "code",
   "execution_count": 2,
   "id": "41f9bbc7-27bd-4267-87b7-55c8c67d7c65",
   "metadata": {},
   "outputs": [
    {
     "data": {
      "application/vnd.jupyter.widget-view+json": {
       "model_id": "d787b7767c8b425a901e01a9806a7828",
       "version_major": 2,
       "version_minor": 0
      },
      "text/plain": [
       "Summarize dataset:   0%|          | 0/5 [00:00<?, ?it/s]"
      ]
     },
     "metadata": {},
     "output_type": "display_data"
    },
    {
     "data": {
      "application/vnd.jupyter.widget-view+json": {
       "model_id": "0daae7f6c5834bf2a235ff5b4045c54b",
       "version_major": 2,
       "version_minor": 0
      },
      "text/plain": [
       "Generate report structure:   0%|          | 0/1 [00:00<?, ?it/s]"
      ]
     },
     "metadata": {},
     "output_type": "display_data"
    },
    {
     "data": {
      "application/vnd.jupyter.widget-view+json": {
       "model_id": "a1f64d987ad24f50b20b6467a1bcb53e",
       "version_major": 2,
       "version_minor": 0
      },
      "text/plain": [
       "Render HTML:   0%|          | 0/1 [00:00<?, ?it/s]"
      ]
     },
     "metadata": {},
     "output_type": "display_data"
    },
    {
     "data": {
      "application/vnd.jupyter.widget-view+json": {
       "model_id": "3cd86e32c5a2434f8055b7e62d0fc4e5",
       "version_major": 2,
       "version_minor": 0
      },
      "text/plain": [
       "Export report to file:   0%|          | 0/1 [00:00<?, ?it/s]"
      ]
     },
     "metadata": {},
     "output_type": "display_data"
    }
   ],
   "source": [
    "df = pd.read_csv(\"CleanedIQR.csv\")\n",
    "profile = pp.ProfileReport(df)\n",
    "profile.to_file(\"my_data_profile.html\")"
   ]
  },
  {
   "cell_type": "code",
   "execution_count": null,
   "id": "a917a48f-cdcc-4177-84c9-db6ac88a3767",
   "metadata": {},
   "outputs": [],
   "source": []
  }
 ],
 "metadata": {
  "kernelspec": {
   "display_name": "Python 3 (ipykernel)",
   "language": "python",
   "name": "python3"
  },
  "language_info": {
   "codemirror_mode": {
    "name": "ipython",
    "version": 3
   },
   "file_extension": ".py",
   "mimetype": "text/x-python",
   "name": "python",
   "nbconvert_exporter": "python",
   "pygments_lexer": "ipython3",
   "version": "3.9.7"
  }
 },
 "nbformat": 4,
 "nbformat_minor": 5
}
